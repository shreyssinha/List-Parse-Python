{
 "cells": [
  {
   "cell_type": "code",
   "execution_count": 1,
   "metadata": {},
   "outputs": [],
   "source": [
    "#Imports\n",
    "from tabula.io import read_pdf\n",
    "import pandas as pd\n",
    "import re"
   ]
  },
  {
   "cell_type": "code",
   "execution_count": 2,
   "metadata": {},
   "outputs": [],
   "source": [
    "#Select and Read PDF\n",
    "pdf_path = 'hospitallist.pdf'\n",
    "dfs = read_pdf(pdf_path, pages='1-14')"
   ]
  },
  {
   "cell_type": "code",
   "execution_count": 3,
   "metadata": {},
   "outputs": [],
   "source": [
    "#Setting up Raw Data Arrays\n",
    "location_raw = []\n",
    "name_raw = []"
   ]
  },
  {
   "cell_type": "code",
   "execution_count": 4,
   "metadata": {},
   "outputs": [],
   "source": [
    "#Regex Expressions\n",
    "postal_code_re = r'[A-Z]\\d[A-Z][ ]?\\d[A-Z]\\d'\n",
    "city_re = r'[A-Z ]{3,}'\n",
    "hospital_name_re = r'[A-Za-z’\\'.\\s]{,60}(Hospital|Centre|Agency)'\n",
    "health_authority_re = r'(\\w+)( (Island |Coastal )*Health (Services |Care )*(Society|Authority))'\n",
    "phone_re = r'(1-)*[(]*[0-9]{3}[)]*[ ,-]?[0-9]{3}[ ,-]?[0-9]{4}'"
   ]
  },
  {
   "cell_type": "code",
   "execution_count": 5,
   "metadata": {},
   "outputs": [],
   "source": [
    "#Loading page one data\n",
    "\n",
    "#Getting rid of carriage returns\n",
    "dfs[0] = dfs[0].replace(to_replace = r'(\\r)+', value = ' ', regex = True)\n",
    "\n",
    "#Iterating through Column 1 and adding cells to location_raw\n",
    "for values in dfs[0]['Hospital Location &\\rAddress, Phone, Fax']:\n",
    "    if (isinstance(values,str)):\n",
    "        location_raw.append(values)\n",
    "\n",
    "#Iterating through Column 2 and adding cells to name_raw\n",
    "for values in dfs[0]['Hospital Name,\\rHealth Authority Address']:\n",
    "    if (isinstance(values,str)):\n",
    "        name_raw.append(values)"
   ]
  },
  {
   "cell_type": "code",
   "execution_count": 6,
   "metadata": {},
   "outputs": [],
   "source": [
    "#Converting other pages columns to string\n",
    "location_str = ''\n",
    "name_str = ''\n",
    "\n",
    "#Iterating through pages 2-14\n",
    "for i in range(1,14):\n",
    "\n",
    "    #Iterating through Column 1 and adding cells to location_str\n",
    "    for values in dfs[i]['Hospital Location &']:\n",
    "        if isinstance(values,str):\n",
    "            location_str += ' ' + values\n",
    "    \n",
    "    #Iterating through Column 2 and adding cells to name_str\n",
    "    for values in dfs[i]['Hospital Name,']:\n",
    "        if (isinstance(values,str) and values != 'Health Authority Address'):\n",
    "            name_str += ' ' + values"
   ]
  },
  {
   "cell_type": "code",
   "execution_count": 7,
   "metadata": {},
   "outputs": [],
   "source": [
    "#Delimiting data strings and adding to arrays\n",
    "location2_raw = re.split(phone_re, location_str)\n",
    "name2_raw = re.split(postal_code_re, name_str)\n",
    "\n",
    "#Iterating through location2_raw filtering out useless information and adding rest to location_raw\n",
    "for i in location2_raw:\n",
    "    if ((isinstance(i,str)) and (len(i) >= 10) and ('TOLL FREE LINE' not in i)):\n",
    "        location_raw.append(i)\n",
    "\n",
    "#Iterating through name2_raw filtering out useless information and adding rest to name_raw\n",
    "for i in name2_raw:\n",
    "    if ((isinstance(i,str)) and (len(i) >= 5)):\n",
    "        name_raw.append(i)\n"
   ]
  },
  {
   "cell_type": "code",
   "execution_count": 8,
   "metadata": {},
   "outputs": [],
   "source": [
    "#Exception Handling\n",
    "#First element of tuple includes row that needs to be changed second element includes correct row input specifically for name_raw\n",
    "name_corner_cases_tuple = [['St. Joseph’s General Hospital Jane Murphy Chief Executive Officer', \n",
    "                        'St. Joseph’s General Hospital Jane Murphy Chief Executive Officer Island Health Authority']]\n",
    "\n",
    "#Iterate through the name_raw array to find and corner cases matching\n",
    "for i, name in enumerate(name_raw):\n",
    "    for corner_case in name_corner_cases_tuple:\n",
    "        if corner_case[0] in name:\n",
    "            a,b = name.split(corner_case[0], 1)\n",
    "            name_raw.remove(name)\n",
    "            name_raw.insert(i, corner_case[1])\n",
    "            name_raw.insert(i+1, b)"
   ]
  },
  {
   "cell_type": "code",
   "execution_count": 9,
   "metadata": {},
   "outputs": [],
   "source": [
    "#Cleaning data and adding to new df\n",
    "city = []\n",
    "postal_code = []\n",
    "hospital_name = []\n",
    "hospital_authority = []\n",
    "#Iterates through location_raw and adds string to city if city_re is a match, otherwise adds to postal_code if postal_code_re is a match\n",
    "for values in location_raw:\n",
    "\n",
    "    if (re.search(city_re, values)):\n",
    "        city.append(re.search(city_re, values.strip()).group())\n",
    "    else:\n",
    "        city.append('None')\n",
    "\n",
    "    if (re.search(postal_code_re, values)):\n",
    "        postal_code.append(re.search(postal_code_re, values).group())\n",
    "    else:\n",
    "        postal_code.append('None')\n",
    "\n",
    "#Iterates through name_raw and adds string to hospital_name if hospital_name_re is a match, otherwise adds to hospital_authority if health_authority_re is a match\n",
    "for values in name_raw:\n",
    "\n",
    "    if (re.search(hospital_name_re, values)):\n",
    "        hospital_name.append(re.search(hospital_name_re, values).group())\n",
    "    else:\n",
    "        hospital_name.append('None')\n",
    "\n",
    "    if (re.search(health_authority_re, values)):\n",
    "        \n",
    "        hospital_authority.append(re.search(health_authority_re, values).group())\n",
    "    else:\n",
    "        hospital_authority.append('None')"
   ]
  },
  {
   "cell_type": "code",
   "execution_count": 10,
   "metadata": {},
   "outputs": [],
   "source": [
    "#Creating final dataframe\n",
    "data = {'city':city,\n",
    "        'postal_code':postal_code,\n",
    "        'hospital_name':hospital_name,\n",
    "        'health_authority':hospital_authority}\n",
    "\n",
    "resultdf = pd.DataFrame(data)"
   ]
  },
  {
   "cell_type": "code",
   "execution_count": 11,
   "metadata": {},
   "outputs": [],
   "source": [
    "#Converts to CSV\n",
    "resultdf.to_csv('out.csv')\n"
   ]
  }
 ],
 "metadata": {
  "interpreter": {
   "hash": "949777d72b0d2535278d3dc13498b2535136f6dfe0678499012e853ee9abcab1"
  },
  "kernelspec": {
   "display_name": "Python 3.9.6 64-bit",
   "language": "python",
   "name": "python3"
  },
  "language_info": {
   "codemirror_mode": {
    "name": "ipython",
    "version": 3
   },
   "file_extension": ".py",
   "mimetype": "text/x-python",
   "name": "python",
   "nbconvert_exporter": "python",
   "pygments_lexer": "ipython3",
   "version": "3.9.6"
  },
  "orig_nbformat": 4
 },
 "nbformat": 4,
 "nbformat_minor": 2
}
